{
 "cells": [
  {
   "cell_type": "code",
   "execution_count": 8,
   "id": "1e92c65e",
   "metadata": {},
   "outputs": [
    {
     "name": "stdout",
     "output_type": "stream",
     "text": [
      "6\n",
      "Even\n"
     ]
    }
   ],
   "source": [
    "number = int(input())\n",
    "\n",
    "if (number % 2) == 0:\n",
    "    print(\"Even\")\n",
    "else:\n",
    "    print(\"Odd\")\n"
   ]
  },
  {
   "cell_type": "code",
   "execution_count": 19,
   "id": "c8e26178",
   "metadata": {},
   "outputs": [
    {
     "name": "stdout",
     "output_type": "stream",
     "text": [
      "True\n",
      "False\n"
     ]
    }
   ],
   "source": [
    "print(not False)\n",
    "print(not True)"
   ]
  },
  {
   "cell_type": "code",
   "execution_count": 28,
   "id": "62f1cafa",
   "metadata": {},
   "outputs": [
    {
     "name": "stdout",
     "output_type": "stream",
     "text": [
      "6\n",
      "Is divisible by 6\n"
     ]
    }
   ],
   "source": [
    "number = int(input())\n",
    "\n",
    "if (number % 2 == 0) and (number % 3 == 0):\n",
    "    print(\"Is divisible by 6\")\n",
    "else:\n",
    "    print(\"Not divisible\")\n"
   ]
  },
  {
   "cell_type": "code",
   "execution_count": 30,
   "id": "616ae42b",
   "metadata": {},
   "outputs": [
    {
     "name": "stdout",
     "output_type": "stream",
     "text": [
      "True\n",
      "False\n",
      "True\n",
      "False\n"
     ]
    }
   ],
   "source": [
    "print(2 > 1)\n",
    "print(2 < 1)\n",
    "print(2 != 1)\n",
    "print(2 != 2)"
   ]
  },
  {
   "cell_type": "markdown",
   "id": "fea266f9",
   "metadata": {},
   "source": [
    "expression1 and expression2 and expression3 and ... expressionN\n",
    "Если expression1 - False, то expression2 не вычисляется\n",
    "\n",
    "expression1 or expression2 or expression3 or ... expressionN\n",
    "Если expression1 - True, то expression2 не вычисляется"
   ]
  },
  {
   "cell_type": "code",
   "execution_count": 34,
   "id": "e218ef60",
   "metadata": {},
   "outputs": [
    {
     "name": "stdout",
     "output_type": "stream",
     "text": [
      "6\n",
      "+\n"
     ]
    }
   ],
   "source": [
    "number = int(input())\n",
    "\n",
    "if number > 0:\n",
    "    print(\"+\")\n",
    "elif number < 0:\n",
    "    print(\"-\")\n"
   ]
  },
  {
   "cell_type": "code",
   "execution_count": 1,
   "id": "9b60f784",
   "metadata": {},
   "outputs": [
    {
     "name": "stdout",
     "output_type": "stream",
     "text": [
      "1\n",
      "0\n",
      "1\n",
      "No solution\n"
     ]
    }
   ],
   "source": [
    "# a*x^2 + bx + c = 0\n",
    "# x ^ 2 + 3 * x + 2 = 0, x1 = -1, x2 = -2\n",
    "# x ^ 2 + 4 * x + 4 = 0, x = -2\n",
    "# x ^ 2 + 1 = 0, NO SOLUTION\n",
    "\n",
    "a = int(input())\n",
    "b = int(input())\n",
    "c = int(input())\n",
    "\n",
    "D = (b**2 - 4 * a * c)\n",
    "if D > 0:\n",
    "    x1 = (-b + (D ** 0.5)) / (2*a)\n",
    "    x2 = (-b - (D ** 0.5)) / (2*a)\n",
    "    print(\"Two solution: \", x1, x2)\n",
    "elif D == 0:\n",
    "    x = (-b) / (2*a)\n",
    "    print(\"One solution: \", x)\n",
    "else:\n",
    "    print(\"No solution\")"
   ]
  },
  {
   "cell_type": "code",
   "execution_count": 2,
   "id": "2ce11633",
   "metadata": {},
   "outputs": [
    {
     "name": "stdout",
     "output_type": "stream",
     "text": [
      "7\n"
     ]
    }
   ],
   "source": [
    "number = int(input())\n",
    "\n",
    "if (number % 2 == 0):\n",
    "    print(\"Is divisible by 2\")\n",
    "if (number % 3 == 0):\n",
    "    print(\"Is divisible by 3\")\n",
    "if (number % 6 == 0):\n",
    "    print(\"Is divisible by 6\")\n"
   ]
  },
  {
   "cell_type": "code",
   "execution_count": 3,
   "id": "09c98f3d",
   "metadata": {},
   "outputs": [
    {
     "name": "stdout",
     "output_type": "stream",
     "text": [
      "6\n",
      "Is divisible by 2\n"
     ]
    }
   ],
   "source": [
    "number = int(input())\n",
    "\n",
    "if (number % 2 == 0):\n",
    "    print(\"Is divisible by 2\")\n",
    "elif (number % 3 == 0):\n",
    "    print(\"Is divisible by 3\")\n",
    "elif (number % 6 == 0):\n",
    "    print(\"Is divisible by 6\")\n"
   ]
  },
  {
   "cell_type": "code",
   "execution_count": 1,
   "id": "15a9596c",
   "metadata": {},
   "outputs": [
    {
     "name": "stdout",
     "output_type": "stream",
     "text": [
      "4\n",
      "Not divisible\n"
     ]
    }
   ],
   "source": [
    "number = int(input())\n",
    "\n",
    "if (number % 2 == 0):\n",
    "    if (number % 3 == 0):\n",
    "        print(\"Is divisible by 6\")\n",
    "    else:\n",
    "        print(\"Not divisible\")\n",
    "else:\n",
    "    print(\"Not divisible\")\n"
   ]
  },
  {
   "cell_type": "code",
   "execution_count": 3,
   "id": "02c0d815",
   "metadata": {},
   "outputs": [
    {
     "name": "stdout",
     "output_type": "stream",
     "text": [
      "5\n",
      "Odd\n"
     ]
    }
   ],
   "source": [
    "# expression1 if condition else exporession2\n",
    "number = int(input())\n",
    "\n",
    "print(\"Even\") if number % 2 == 0 else print(\"Odd\")"
   ]
  },
  {
   "cell_type": "code",
   "execution_count": 14,
   "id": "b95d4295",
   "metadata": {},
   "outputs": [
    {
     "name": "stdout",
     "output_type": "stream",
     "text": [
      "10\n",
      "Adding 1\n",
      "Adding 3\n",
      "Adding 5\n",
      "Adding 7\n",
      "Adding 9\n",
      "25\n"
     ]
    }
   ],
   "source": [
    "# range(n + 1) = [0, 1, 2, ... n] -> [0, n)\n",
    "# range(a, b) = [a, a + 1, ... b - 1] -> [a, b)\n",
    "# range(a, b, step) = [a, a + step, a + step * 2, ]\n",
    "# range(1, 10, 2) = [1, 3, 5, 7, 9]\n",
    "# range(0, 10, 2) = [0, 2, 4, 8]\n",
    "\n",
    "n = int(input())\n",
    "# 1 + 2 + 3 + ... n\n",
    "sum = 0\n",
    "for number in range(1, n, 2):\n",
    "    print(f\"Adding {number}\")\n",
    "    sum = sum + number\n",
    "print(sum)\n"
   ]
  },
  {
   "cell_type": "code",
   "execution_count": 15,
   "id": "4126c741",
   "metadata": {},
   "outputs": [
    {
     "name": "stdout",
     "output_type": "stream",
     "text": [
      "10\n",
      "Adding 2\n",
      "Adding 4\n",
      "Adding 6\n",
      "Adding 8\n",
      "Adding 10\n",
      "30\n"
     ]
    }
   ],
   "source": [
    "n = int(input())\n",
    "sum = 0\n",
    "for number in range(1, n + 1):\n",
    "    if number % 2 == 0:\n",
    "        print(f\"Adding {number}\")\n",
    "        sum = sum + number\n",
    "print(sum)\n"
   ]
  },
  {
   "cell_type": "code",
   "execution_count": 16,
   "id": "685dc200",
   "metadata": {},
   "outputs": [
    {
     "name": "stdout",
     "output_type": "stream",
     "text": [
      "Current symbol A\n",
      "Current symbol b\n",
      "Current symbol r\n",
      "Current symbol a\n",
      "Current symbol c\n",
      "Current symbol a\n",
      "Current symbol d\n",
      "Current symbol a\n",
      "Current symbol b\n",
      "Current symbol r\n",
      "Current symbol a\n"
     ]
    }
   ],
   "source": [
    "string = \"Abracadabra\"\n",
    "for c in string:\n",
    "    print(f\"Current symbol {c}\")\n"
   ]
  },
  {
   "cell_type": "code",
   "execution_count": 28,
   "id": "738890dc",
   "metadata": {},
   "outputs": [
    {
     "name": "stdout",
     "output_type": "stream",
     "text": [
      "lkjasdf*sdlkjflsj\n",
      "l\n",
      "k\n",
      "j\n",
      "a\n",
      "s\n",
      "d\n",
      "f\n",
      "Have *\n"
     ]
    }
   ],
   "source": [
    "string = input()\n",
    "for c in string:\n",
    "    if c == \" \":\n",
    "        print(\"Have probel\")\n",
    "        break\n",
    "    if c == \"*\":\n",
    "        print(\"Have *\")\n",
    "        break\n",
    "    print(c)\n",
    "else:\n",
    "    print(\"Have no star or probel\")"
   ]
  },
  {
   "cell_type": "code",
   "execution_count": 21,
   "id": "092f284f",
   "metadata": {},
   "outputs": [
    {
     "name": "stdout",
     "output_type": "stream",
     "text": [
      "10\n",
      "1\n",
      "3\n",
      "5\n",
      "7\n",
      "9\n"
     ]
    }
   ],
   "source": [
    "n = int(input())\n",
    "for number in range(1, n + 1):\n",
    "    if number % 2 == 0:\n",
    "        continue\n",
    "    else:\n",
    "        print(number)"
   ]
  },
  {
   "cell_type": "code",
   "execution_count": 34,
   "id": "2b6bd463",
   "metadata": {},
   "outputs": [
    {
     "name": "stdout",
     "output_type": "stream",
     "text": [
      "10\n",
      "Adding 0\n",
      "Adding 2\n",
      "Adding 4\n",
      "Adding 6\n",
      "Adding 8\n",
      "Adding 10\n",
      "30\n",
      "12\n"
     ]
    }
   ],
   "source": [
    "n = int(input())\n",
    "sum = 0\n",
    "number = 0\n",
    "while number <= n:\n",
    "    print(f\"Adding {number}\")\n",
    "    sum = sum + number\n",
    "    number = number + 2\n",
    "\n",
    "print(sum)\n",
    "print(number)"
   ]
  },
  {
   "cell_type": "code",
   "execution_count": 44,
   "id": "61afa2ab",
   "metadata": {},
   "outputs": [
    {
     "name": "stdout",
     "output_type": "stream",
     "text": [
      "asdlfkj *kjsdf\n",
      "a\n",
      "s\n",
      "d\n",
      "l\n",
      "f\n",
      "k\n",
      "j\n",
      "Have probel\n"
     ]
    }
   ],
   "source": [
    "string = input()\n",
    "index = 0 # [0, 1, ... len(string) - 1] Hello -> 0: H, 1: e, 2: l, 3: l, 4: o len(\"Hello\") = 5\n",
    "\n",
    "while index < len(string):\n",
    "    c = string[index]\n",
    "    if c == \" \":\n",
    "        print(\"Have probel\")\n",
    "        break\n",
    "    if c == \"*\":\n",
    "        print(\"Have *\")\n",
    "        break\n",
    "    print(c)\n",
    "    index += 1\n",
    "else:\n",
    "    print(\"Have no star or probel\")"
   ]
  },
  {
   "cell_type": "code",
   "execution_count": 43,
   "id": "db258bb7",
   "metadata": {},
   "outputs": [
    {
     "name": "stdout",
     "output_type": "stream",
     "text": [
      "2\n",
      "1\n",
      "4\n",
      "2.0\n"
     ]
    }
   ],
   "source": [
    "number = 0\n",
    "number = number + 1\n",
    "number += 1\n",
    "print(number)\n",
    "\n",
    "number -= 1\n",
    "print(number)\n",
    "\n",
    "number *= 4\n",
    "print(number)\n",
    "\n",
    "number /= 2\n",
    "print(number)"
   ]
  },
  {
   "cell_type": "code",
   "execution_count": null,
   "id": "5b94969e",
   "metadata": {},
   "outputs": [],
   "source": []
  }
 ],
 "metadata": {
  "kernelspec": {
   "display_name": "Python 3 (ipykernel)",
   "language": "python",
   "name": "python3"
  },
  "language_info": {
   "codemirror_mode": {
    "name": "ipython",
    "version": 3
   },
   "file_extension": ".py",
   "mimetype": "text/x-python",
   "name": "python",
   "nbconvert_exporter": "python",
   "pygments_lexer": "ipython3",
   "version": "3.8.5"
  }
 },
 "nbformat": 4,
 "nbformat_minor": 5
}
